{
 "cells": [
  {
   "cell_type": "code",
   "execution_count": 1,
   "id": "23770bce",
   "metadata": {},
   "outputs": [
    {
     "name": "stdout",
     "output_type": "stream",
     "text": [
      "Waking up the cat...\n",
      "\n",
      "      |\\      _,,,---,,_\n",
      "ZZZzz /,`.-'`'    -.  ;-;;,_\n",
      "     |,4-  ) )-,_. ,\\ (  `'-'\n",
      "    '---''(_/--'  `-'\\_)   \n",
      "\n",
      "Cat is ready !\n",
      "\n",
      "    |\\__/,|   (`\\\n",
      "  _.|o o  |_   ) )\n",
      "-(((---(((--------\n",
      "\n"
     ]
    }
   ],
   "source": [
    "from catqdm import cat_bar, big_cat_bar"
   ]
  },
  {
   "cell_type": "code",
   "execution_count": 2,
   "id": "0552ce84",
   "metadata": {},
   "outputs": [],
   "source": [
    "# for _ in cat_bar(range(100), sleep_per=0.01):\n",
    "#     pass"
   ]
  },
  {
   "cell_type": "code",
   "execution_count": 3,
   "id": "f1e5ee99",
   "metadata": {},
   "outputs": [
    {
     "data": {
      "text/html": [
       "<pre style='margin:0;line-height:1.1;'>    |\\__/,|   (`\\\n",
       "  _.| ^_^ |_   ) )\n",
       "-(((---(((--------</pre>"
      ],
      "text/plain": [
       "<IPython.core.display.HTML object>"
      ]
     },
     "metadata": {},
     "output_type": "display_data"
    },
    {
     "data": {
      "application/vnd.jupyter.widget-view+json": {
       "model_id": "caeca669a1e3491293c3fbea30fea4da",
       "version_major": 2,
       "version_minor": 0
      },
      "text/plain": [
       "Mood Upgrade:   0%|          | 0/100 [00:00<?, ?it/s]"
      ]
     },
     "metadata": {},
     "output_type": "display_data"
    }
   ],
   "source": [
    "for _ in big_cat_bar(range(100), sleep_per=0.1, live=True):\n",
    "    pass"
   ]
  },
  {
   "cell_type": "code",
   "execution_count": null,
   "id": "ec5f7c87",
   "metadata": {},
   "outputs": [],
   "source": []
  }
 ],
 "metadata": {
  "kernelspec": {
   "display_name": "Artefact",
   "language": "python",
   "name": "python3"
  },
  "language_info": {
   "codemirror_mode": {
    "name": "ipython",
    "version": 3
   },
   "file_extension": ".py",
   "mimetype": "text/x-python",
   "name": "python",
   "nbconvert_exporter": "python",
   "pygments_lexer": "ipython3",
   "version": "3.11.8"
  }
 },
 "nbformat": 4,
 "nbformat_minor": 5
}
