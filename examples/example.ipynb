{
 "cells": [
  {
   "cell_type": "code",
   "execution_count": 1,
   "id": "23770bce",
   "metadata": {},
   "outputs": [
    {
     "name": "stdout",
     "output_type": "stream",
     "text": [
      "Waking up the cat...\n",
      "\n",
      "      |\\      _,,,---,,_\n",
      "ZZZzz /,`.-'`'    -.  ;-;;,_\n",
      "     |,4-  ) )-,_. ,\\ (  `'-'\n",
      "    '---''(_/--'  `-'\\_)   \n",
      "\n",
      "Cat is ready !\n",
      "\n",
      "    |\\__/,|   (`\\\n",
      "  _.|o o  |_   ) )\n",
      "-(((---(((--------\n",
      "\n"
     ]
    }
   ],
   "source": [
    "from catqdm import cat_bar, big_cat_bar"
   ]
  },
  {
   "cell_type": "code",
   "execution_count": 2,
   "id": "bef1ad0c",
   "metadata": {},
   "outputs": [
    {
     "data": {
      "text/html": [
       "<pre style='margin:0;line-height:1.1;'>    |\\__/,|   (`\\\n",
       "  _.| ^_^ |_   ) )\n",
       "-(((---(((--------</pre>"
      ],
      "text/plain": [
       "<IPython.core.display.HTML object>"
      ]
     },
     "metadata": {},
     "output_type": "display_data"
    },
    {
     "data": {
      "application/vnd.jupyter.widget-view+json": {
       "model_id": "34fa1a0b3b9649e2aae14469089fb519",
       "version_major": 2,
       "version_minor": 0
      },
      "text/plain": [
       "Wagging Tail:   0%|          | 0/100 [00:00<?, ?it/s]"
      ]
     },
     "metadata": {},
     "output_type": "display_data"
    }
   ],
   "source": [
    "custom_tails = [\"(`\\\\\", \"/')\", \"~`~\", \"=^=\"]\n",
    "for i in big_cat_bar(range(100), tails=None, desc=\"Wagging Tail\",sleep_per=0.1):\n",
    "    pass"
   ]
  },
  {
   "cell_type": "code",
   "execution_count": 3,
   "id": "0552ce84",
   "metadata": {},
   "outputs": [
    {
     "data": {
      "application/vnd.jupyter.widget-view+json": {
       "model_id": "a39449a903f641be8ae5f380b7a45911",
       "version_major": 2,
       "version_minor": 0
      },
      "text/plain": [
       "Mood Upgrade:   0%|          | 0/100 [00:00<?, ?it/s]"
      ]
     },
     "metadata": {},
     "output_type": "display_data"
    },
    {
     "name": "stdout",
     "output_type": "stream",
     "text": [
      "\n",
      "All done! Here's the final cat:\n"
     ]
    }
   ],
   "source": [
    "for _ in cat_bar(range(100), sleep_per=0.1,ascii=False):\n",
    "    pass"
   ]
  },
  {
   "cell_type": "code",
   "execution_count": 4,
   "id": "f1e5ee99",
   "metadata": {},
   "outputs": [
    {
     "data": {
      "text/html": [
       "<pre style='margin:0;line-height:1.1;'>    |\\__/,|    /&#x27;)\n",
       "  _.| ^_^ |_   ) )\n",
       "-(((---(((--------</pre>"
      ],
      "text/plain": [
       "<IPython.core.display.HTML object>"
      ]
     },
     "metadata": {},
     "output_type": "display_data"
    },
    {
     "data": {
      "application/vnd.jupyter.widget-view+json": {
       "model_id": "de7368af7a0f4d3eaf4900f949e5afca",
       "version_major": 2,
       "version_minor": 0
      },
      "text/plain": [
       "Mood Upgrade:   0%|          | 0/100 [00:00<?, ?it/s]"
      ]
     },
     "metadata": {},
     "output_type": "display_data"
    }
   ],
   "source": [
    "for _ in big_cat_bar(range(100), sleep_per=0.1, live=True):\n",
    "    pass"
   ]
  },
  {
   "cell_type": "code",
   "execution_count": null,
   "id": "ec5f7c87",
   "metadata": {},
   "outputs": [],
   "source": []
  }
 ],
 "metadata": {
  "kernelspec": {
   "display_name": "Artefact",
   "language": "python",
   "name": "python3"
  },
  "language_info": {
   "codemirror_mode": {
    "name": "ipython",
    "version": 3
   },
   "file_extension": ".py",
   "mimetype": "text/x-python",
   "name": "python",
   "nbconvert_exporter": "python",
   "pygments_lexer": "ipython3",
   "version": "3.11.8"
  }
 },
 "nbformat": 4,
 "nbformat_minor": 5
}
