{
 "cells": [
  {
   "cell_type": "code",
   "execution_count": 1,
   "id": "23770bce",
   "metadata": {},
   "outputs": [],
   "source": [
    "from catqdm import cat_bar, big_cat_bar"
   ]
  },
  {
   "cell_type": "code",
   "execution_count": 2,
   "id": "bef1ad0c",
   "metadata": {},
   "outputs": [
    {
     "data": {
      "text/html": [
       "<pre style='margin:0;line-height:1.1;'>    |\\__/,|   (`\\\n",
       "  _.| ^_^ |_   ) )\n",
       "-(((---(((--------</pre>"
      ],
      "text/plain": [
       "<IPython.core.display.HTML object>"
      ]
     },
     "metadata": {},
     "output_type": "display_data"
    },
    {
     "data": {
      "application/vnd.jupyter.widget-view+json": {
       "model_id": "1163fc902a02400bbddc7d2fae3bc702",
       "version_major": 2,
       "version_minor": 0
      },
      "text/plain": [
       "Wagging Tail:   0%|          | 0/100 [00:00<?, ?it/s]"
      ]
     },
     "metadata": {},
     "output_type": "display_data"
    }
   ],
   "source": [
    "custom_tails = [\"(`\\\\\", \"/')\", \"~`~\", \"=^=\"]\n",
    "for i in big_cat_bar(range(100), tails=None, desc=\"Wagging Tail\",sleep_per=0.1):\n",
    "    pass"
   ]
  },
  {
   "cell_type": "code",
   "execution_count": 3,
   "id": "0552ce84",
   "metadata": {},
   "outputs": [
    {
     "data": {
      "application/vnd.jupyter.widget-view+json": {
       "model_id": "df336ef275aa4f36a5733f0f32b7a985",
       "version_major": 2,
       "version_minor": 0
      },
      "text/plain": [
       "Mood Upgrade:   0%|          | 0/100 [00:00<?, ?it/s]"
      ]
     },
     "metadata": {},
     "output_type": "display_data"
    },
    {
     "name": "stdout",
     "output_type": "stream",
     "text": [
      "\n",
      "All done! Here's the final cat:\n"
     ]
    }
   ],
   "source": [
    "for _ in cat_bar(range(100), sleep_per=0.1,ascii=False):\n",
    "    pass"
   ]
  },
  {
   "cell_type": "code",
   "execution_count": 4,
   "id": "f1e5ee99",
   "metadata": {},
   "outputs": [
    {
     "data": {
      "text/html": [
       "<pre style='margin:0;line-height:1.1;'>    |\\__/,|    /&#x27;)\n",
       "  _.| ^_^ |_   ) )\n",
       "-(((---(((--------</pre>"
      ],
      "text/plain": [
       "<IPython.core.display.HTML object>"
      ]
     },
     "metadata": {},
     "output_type": "display_data"
    },
    {
     "data": {
      "application/vnd.jupyter.widget-view+json": {
       "model_id": "e104163cd0ae445894b12dcf0a93b6f1",
       "version_major": 2,
       "version_minor": 0
      },
      "text/plain": [
       "Mood Upgrade:   0%|          | 0/100 [00:00<?, ?it/s]"
      ]
     },
     "metadata": {},
     "output_type": "display_data"
    }
   ],
   "source": [
    "for _ in big_cat_bar(range(100), sleep_per=0.1, live=True):\n",
    "    pass"
   ]
  },
  {
   "cell_type": "code",
   "execution_count": 1,
   "id": "ec5f7c87",
   "metadata": {},
   "outputs": [
    {
     "data": {
      "text/html": [
       "<pre style=\"margin:0;line-height:1.1;\"><span style=\"color: cyan; font-weight: bold;\">Processing files: </span><span style=\"color: green;\">🐾</span><span style=\"color: green;\">🐾</span><span style=\"color: green;\">🐾</span><span style=\"color: green;\">🐾</span><span style=\"color: green;\">🐾</span><span style=\"color: green;\">🐾</span><span style=\"color: green;\">🐾</span><span style=\"color: green;\">🐾</span><span style=\"color: green;\">🐾</span><span style=\"color: green;\">🐾</span><span style=\"color: green;\">🐾</span><span style=\"color: green;\">🐾</span><span style=\"color: green;\">🐾</span><span style=\"color: green;\">🐾</span><span style=\"color: green;\">🐾</span><span style=\"color: green;\">🐾</span><span style=\"color: green;\">🐾</span><span style=\"color: green;\">🐾</span><span style=\"color: green;\">🐾</span><span style=\"color: green;\">🐾</span> <span style=\"color: white;\">100/100 (100.0%) [0:00:05<0:00:00, 18file/s]</span></pre>"
      ],
      "text/plain": [
       "<IPython.core.display.HTML object>"
      ]
     },
     "metadata": {},
     "output_type": "display_data"
    }
   ],
   "source": [
    "from catqdm import CatProgressBar\n",
    "import time\n",
    "\n",
    "with CatProgressBar(100, \"Processing files\", unit=\"file\", width=20) as pbar:\n",
    "    for i in range(100):\n",
    "        time.sleep(0.05)\n",
    "        pbar.update(1)"
   ]
  },
  {
   "cell_type": "code",
   "execution_count": null,
   "id": "9ac7262a",
   "metadata": {},
   "outputs": [],
   "source": []
  }
 ],
 "metadata": {
  "kernelspec": {
   "display_name": "Artefact",
   "language": "python",
   "name": "python3"
  },
  "language_info": {
   "codemirror_mode": {
    "name": "ipython",
    "version": 3
   },
   "file_extension": ".py",
   "mimetype": "text/x-python",
   "name": "python",
   "nbconvert_exporter": "python",
   "pygments_lexer": "ipython3",
   "version": "3.11.8"
  }
 },
 "nbformat": 4,
 "nbformat_minor": 5
}
